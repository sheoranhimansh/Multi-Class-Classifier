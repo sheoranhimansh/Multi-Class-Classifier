{
 "cells": [
  {
   "cell_type": "code",
   "execution_count": 1,
   "metadata": {},
   "outputs": [],
   "source": [
    "from pylab import imread,subplot,imshow,title,gray,figure,show,NullLocator\n",
    "from PIL import Image\n",
    "import numpy as np\n",
    "import math\n",
    "import matplotlib\n",
    "import matplotlib.pyplot as plt "
   ]
  },
  {
   "cell_type": "code",
   "execution_count": 2,
   "metadata": {},
   "outputs": [],
   "source": [
    "x_file = open(\"sample_train_dataset.txt\", \"r\")\n",
    "a = []\n",
    "a_name = []\n",
    "name_classes = []\n",
    "for file in x_file:\n",
    "    sp = file.split() \n",
    "    arr = np.array(Image.open(sp[0]).convert(\"L\").resize((32,32))).flatten()\n",
    "    a.append(arr)\n",
    "    a_name.append(str(sp[1]))\n",
    "    name_classes.append(str(sp[1]))"
   ]
  },
  {
   "cell_type": "code",
   "execution_count": 3,
   "metadata": {},
   "outputs": [],
   "source": [
    "def PCA(a):\n",
    "    a = np.array(a)\n",
    "    mean1 = a - np.mean(a,axis=0)\n",
    "    v, eigenvalues , eigenvectors = np.linalg.svd(mean1)\n",
    "    coefficiets = np.matmul(mean1 , eigenvectors.T) \n",
    "    arr1 = np.array(coefficiets[:,:32])\n",
    "    b = np.ones((len(arr1),1))\n",
    "    arr1 = np.hstack((arr1,b))\n",
    "    return np.array(arr1) , eigenvectors[0:32,:]"
   ]
  },
  {
   "cell_type": "code",
   "execution_count": 4,
   "metadata": {},
   "outputs": [
    {
     "name": "stdout",
     "output_type": "stream",
     "text": [
      "(400, 33)\n"
     ]
    }
   ],
   "source": [
    "new_img,eigenvectors = PCA(a)\n",
    "print(new_img.shape)\n",
    "a_name = np.array(a_name)"
   ]
  },
  {
   "cell_type": "code",
   "execution_count": 5,
   "metadata": {},
   "outputs": [],
   "source": [
    "unique_classes = list(set(a_name))\n",
    "assign_int = {}\n",
    "assign_name = {}\n",
    "for i in range(len(unique_classes)):\n",
    "    assign_int[i] = unique_classes[i]\n",
    "    assign_name[unique_classes[i]] = i\n",
    "for i in range(len(a_name)):\n",
    "    a_name[i] = assign_name[a_name[i]]\n",
    "a_name = a_name.astype(int)"
   ]
  },
  {
   "cell_type": "code",
   "execution_count": 6,
   "metadata": {},
   "outputs": [
    {
     "name": "stdout",
     "output_type": "stream",
     "text": [
      "{0: '5', 1: '1', 2: '4', 3: '2', 4: '3', 5: '7', 6: '6', 7: '0'}\n",
      "[0 0 6 1 1 4 4 6 4 7 6 5 7 6 0 0 4 1 6 0 0 7 1 6 2 5 7 3 7 2 5 0 2 0 1 0 0\n",
      " 7 6 4 1 7 0 6 0 5 3 3 7 2 6 3 1 0 6 5 7 6 0 5 0 4 7 4 4 3 1 4 4 0 1 0 4 3\n",
      " 2 7 7 1 2 4 2 5 2 7 5 5 3 0 4 6 5 5 0 2 4 7 3 0 5 7 3 4 0 4 2 4 7 0 0 7 2\n",
      " 7 0 0 5 2 4 6 2 1 7 3 5 4 0 6 1 7 2 3 4 5 2 7 2 2 2 7 1 0 3 7 6 1 7 7 6 3\n",
      " 5 6 5 2 5 3 7 1 0 0 1 4 1 5 4 0 1 6 6 4 5 3 0 6 5 0 3 3 0 5 6 4 1 1 2 6 0\n",
      " 7 6 6 3 5 3 6 4 1 1 6 3 1 1 3 6 2 5 6 3 0 6 5 0 6 5 3 1 7 6 1 5 3 6 2 4 5\n",
      " 5 1 2 2 6 4 2 3 0 3 0 7 0 2 6 7 0 1 1 6 2 1 5 7 6 3 5 6 1 5 5 2 2 4 0 4 7\n",
      " 2 6 7 7 6 2 4 3 2 4 3 3 6 4 7 7 6 3 3 4 7 2 5 2 2 6 6 5 0 6 7 2 2 6 7 3 0\n",
      " 0 1 5 7 4 4 2 4 2 5 4 4 5 4 1 4 3 1 4 7 2 3 3 4 2 0 3 0 4 6 5 2 1 2 5 4 3\n",
      " 3 5 4 7 3 2 6 1 5 7 2 6 3 3 3 3 3 1 6 5 2 6 7 1 7 7 5 4 7 5 3 3 0 5 0 5 1\n",
      " 6 3 0 0 4 4 5 1 1 1 1 3 5 6 2 3 6 2 1 5 3 4 2 6 7 1 2 0 7 2]\n",
      "['5', '1', '4', '2', '3', '7', '6', '0']\n",
      "{'7': 5, '5': 0, '1': 1, '4': 2, '2': 3, '6': 6, '3': 4, '0': 7}\n"
     ]
    }
   ],
   "source": [
    "print(assign_int)\n",
    "print(a_name)\n",
    "print(unique_classes)\n",
    "print(assign_name)"
   ]
  },
  {
   "cell_type": "code",
   "execution_count": 7,
   "metadata": {},
   "outputs": [
    {
     "name": "stdout",
     "output_type": "stream",
     "text": [
      "(33, 400) (400,) (8, 33)\n"
     ]
    }
   ],
   "source": [
    "num_classes = len(set(a_name))\n",
    "X = np.array(new_img.T)\n",
    "D = len(X)\n",
    "W = np.random.randn(num_classes, D) * 0.001\n",
    "lr = 1e-4\n",
    "reg = 500\n",
    "num_iters=10000\n",
    "Y = np.array(a_name)\n",
    "print(X.shape,Y.shape,W.shape)"
   ]
  },
  {
   "cell_type": "code",
   "execution_count": 8,
   "metadata": {},
   "outputs": [],
   "source": [
    "def loss_grad(W, X, y, reg):\n",
    "    loss = 0 \n",
    "    grad = np.zeros_like(W)\n",
    "    dim, num_train = X.shape\n",
    "    scores = W.dot(X)\n",
    "    #print(W)\n",
    "    #print(scores)\n",
    "    scores -= np.max(scores)\n",
    "    scores_exp = np.exp(scores)\n",
    "    scores_exp = scores_exp*1e50\n",
    "#     print(num_train)\n",
    "    correct_scores_exp = scores_exp[y, range(num_train)]\n",
    "#     print(correct_scores_exp.shape,scores_exp.shape)\n",
    "    scores_exp_sum = np.sum(scores_exp, axis=0)\n",
    "    #print(scores_exp_sum)\n",
    "    loss = -np.sum(np.log(correct_scores_exp / scores_exp_sum))\n",
    "    loss /= num_train\n",
    "    #loss += 0.5 * reg * np.sum(W * W)\n",
    "    scores_exp_normalized = scores_exp / scores_exp_sum\n",
    "    scores_exp_normalized[y, range(num_train)] -= 1\n",
    "    grad = scores_exp_normalized.dot(X.T)\n",
    "    grad /= num_train\n",
    "    #grad += reg * W\n",
    "    \n",
    "    return loss, grad"
   ]
  },
  {
   "cell_type": "code",
   "execution_count": 9,
   "metadata": {},
   "outputs": [],
   "source": [
    "losses_history = []\n",
    "for i in range(num_iters):\n",
    "    loss, grad =loss_grad(W, X, Y, reg)\n",
    "    #print(loss)\n",
    "    losses_history.append(loss)\n",
    "    W -= lr * grad\n",
    "    if(loss<1):\n",
    "        break;\n",
    "    #if (i % 100 == 0):\n",
    "    #print('iteration %d/%d: loss %f ' % (i, num_iters, loss))\n"
   ]
  },
  {
   "cell_type": "code",
   "execution_count": 15,
   "metadata": {},
   "outputs": [],
   "source": [
    " def predict(X):\n",
    "    pred_ys = np.zeros(X.shape[1])\n",
    "    scores = W.dot(X)\n",
    "    print(scores.shape,X.shape)\n",
    "    pred_ys = np.argmax(scores, axis=0)\n",
    "    return pred_ys\n"
   ]
  },
  {
   "cell_type": "code",
   "execution_count": 16,
   "metadata": {},
   "outputs": [
    {
     "name": "stdout",
     "output_type": "stream",
     "text": [
      "(120, 1024)\n",
      "(1024,)\n"
     ]
    }
   ],
   "source": [
    "x_files = open(\"sample_test_dataset.txt\", \"r\")\n",
    "res = []\n",
    "file_name = []\n",
    "for file in x_files:\n",
    "    file = file.split('\\n')\n",
    "    f = Image.open(str(file[0])).convert(\"L\").resize((32,32))\n",
    "    file_name.append(str(file[0]))\n",
    "    arr = np.asarray(f)\n",
    "    arr = arr.reshape(-1)\n",
    "    res.append(arr)\n",
    "    f.close\n",
    "    \n",
    "print(np.array(res).shape)\n",
    "print(np.mean(a,axis=0).shape)"
   ]
  },
  {
   "cell_type": "code",
   "execution_count": 17,
   "metadata": {},
   "outputs": [
    {
     "name": "stdout",
     "output_type": "stream",
     "text": [
      "(8, 120) (33, 120)\n"
     ]
    },
    {
     "data": {
      "text/plain": [
       "(33, 120)"
      ]
     },
     "execution_count": 17,
     "metadata": {},
     "output_type": "execute_result"
    }
   ],
   "source": [
    "res = res - np.mean(a,axis=0)\n",
    "coefficiets = np.matmul(res , eigenvectors.T)\n",
    "b = np.ones((len(res),1))\n",
    "res = np.hstack((coefficiets,b))\n",
    "pred = predict(np.array(res).T)\n",
    "np.array(res).T.shape"
   ]
  },
  {
   "cell_type": "code",
   "execution_count": 19,
   "metadata": {},
   "outputs": [
    {
     "data": {
      "text/plain": [
       "array([2, 2, 0, 5, 1, 7, 6, 2, 1, 2, 4, 1, 7, 2, 0, 5, 1, 2, 0, 0, 0, 6,\n",
       "       3, 3, 0, 0, 5, 7, 6, 6, 0, 7, 2, 1, 1, 3, 1, 5, 2, 1, 0, 2, 5, 7,\n",
       "       3, 3, 3, 4, 3, 4, 5, 7, 7, 3, 6, 2, 6, 3, 3, 5, 7, 7, 5, 2, 4, 6,\n",
       "       5, 1, 6, 2, 4, 4, 3, 0, 6, 7, 4, 5, 7, 6, 6, 7, 6, 0, 5, 6, 4, 0,\n",
       "       3, 4, 4, 2, 6, 1, 6, 5, 7, 0, 4, 1, 5, 4, 7, 7, 2, 6, 1, 4, 3, 6,\n",
       "       0, 7, 4, 3, 6, 5, 3, 6, 4, 2])"
      ]
     },
     "execution_count": 19,
     "metadata": {},
     "output_type": "execute_result"
    }
   ],
   "source": [
    "pred"
   ]
  },
  {
   "cell_type": "code",
   "execution_count": 14,
   "metadata": {},
   "outputs": [
    {
     "name": "stdout",
     "output_type": "stream",
     "text": [
      "0\n"
     ]
    }
   ],
   "source": [
    "for i in range(len(pred)):\n",
    "     if (assign_int[pred[i]] == file_name[i][17]):\n",
    "            acc=acc+1\n",
    "print(acc)\n",
    "        "
   ]
  },
  {
   "cell_type": "code",
   "execution_count": null,
   "metadata": {},
   "outputs": [],
   "source": []
  },
  {
   "cell_type": "code",
   "execution_count": null,
   "metadata": {},
   "outputs": [],
   "source": []
  },
  {
   "cell_type": "code",
   "execution_count": null,
   "metadata": {},
   "outputs": [],
   "source": []
  }
 ],
 "metadata": {
  "kernelspec": {
   "display_name": "Python 3",
   "language": "python",
   "name": "python3"
  },
  "language_info": {
   "codemirror_mode": {
    "name": "ipython",
    "version": 3
   },
   "file_extension": ".py",
   "mimetype": "text/x-python",
   "name": "python",
   "nbconvert_exporter": "python",
   "pygments_lexer": "ipython3",
   "version": "3.5.2"
  }
 },
 "nbformat": 4,
 "nbformat_minor": 2
}
