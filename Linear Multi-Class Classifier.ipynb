{
 "cells": [
  {
   "cell_type": "code",
   "execution_count": 1,
   "metadata": {},
   "outputs": [],
   "source": [
    "from __future__ import division\n",
    "import os\n",
    "from PIL import Image\n",
    "import numpy as np\n",
    "import matplotlib.image as mpimg\n",
    "from skimage import color\n",
    "import matplotlib.pyplot as plt \n",
    "from pylab import imread,subplot,imshow,title,gray,figure,show,NullLocator\n",
    "import scipy.misc\n",
    "import math"
   ]
  },
  {
   "cell_type": "code",
   "execution_count": 2,
   "metadata": {},
   "outputs": [],
   "source": [
    "lr = 1e-4\n",
    "reg = 500\n",
    "num_iters=10000\n",
    "const2 = 1e50"
   ]
  },
  {
   "cell_type": "code",
   "execution_count": 3,
   "metadata": {},
   "outputs": [],
   "source": [
    "input_file = open(\"sample_train_dataset.txt\", \"r\")\n",
    "a = []\n",
    "a_name = []\n",
    "name_classes = []\n",
    "for file in input_file:\n",
    "    arr = np.array(Image.open(file.split()[0]).convert(\"L\").resize((32,32))).flatten()\n",
    "    a.append(arr)\n",
    "    a_name.append(str(file.split()[1]))\n",
    "    name_classes.append(str(file.split()[1]))\n",
    "a_name = np.array(a_name)\n",
    "unique_classes = list(set(a_name))\n"
   ]
  },
  {
   "cell_type": "code",
   "execution_count": 4,
   "metadata": {},
   "outputs": [],
   "source": [
    "x_files = open(\"sample_test_dataset.txt\", \"r\")\n",
    "file_name = []\n",
    "res = []\n",
    "for file in x_files:\n",
    "    file = file.split('\\n')\n",
    "    f = Image.open(str(file[0]))\n",
    "    f = f.convert(\"L\")\n",
    "    f = f.resize((32,32))\n",
    "    file_name.append(str(file[0]))\n",
    "    arr = np.asarray(f)\n",
    "    arr = arr.reshape(-1)\n",
    "    res.append(arr)\n",
    "    f.close\n",
    "\n"
   ]
  },
  {
   "cell_type": "code",
   "execution_count": 5,
   "metadata": {},
   "outputs": [],
   "source": [
    "a = np.array(a)\n",
    "mean = np.mean(a,axis=0)\n",
    "mean1 = a - mean\n",
    "v, eigenvalues , eigenvectors = np.linalg.svd(mean1)\n",
    "eigenvectors = eigenvectors.T\n",
    "coefficiets = np.matmul(mean1 , eigenvectors) \n",
    "eigenvectors = eigenvectors.T\n",
    "arr1 = np.array(coefficiets[:,:32])\n",
    "b = np.ones((len(arr1),1))\n",
    "arr1 = np.hstack((arr1,b))\n",
    "new_img = np.array(arr1)\n",
    "eigenvectors = eigenvectors[0:32,:]\n",
    "eigenvectors = eigenvectors.T"
   ]
  },
  {
   "cell_type": "code",
   "execution_count": 6,
   "metadata": {},
   "outputs": [],
   "source": [
    "const =  0.001"
   ]
  },
  {
   "cell_type": "code",
   "execution_count": 7,
   "metadata": {},
   "outputs": [],
   "source": [
    "assign_int = dict()\n",
    "assign_name = dict()\n",
    "rang = len(unique_classes)\n",
    "for i in range(rang):\n",
    "    assign_int[i] = unique_classes[i]\n",
    "    assign_name[unique_classes[i]] = i\n",
    "    \n",
    "rang  = len(a_name)\n",
    "for i in range(rang):\n",
    "    a_name[i] = assign_name[a_name[i]]\n",
    "a_name = a_name.astype(int)\n"
   ]
  },
  {
   "cell_type": "code",
   "execution_count": 8,
   "metadata": {},
   "outputs": [],
   "source": [
    "num_classes = len(set(a_name))\n",
    "newt = new_img.T\n",
    "X = np.array(newt)\n",
    "D = len(X)\n",
    "W = np.random.randn(num_classes, D) *const\n",
    "Y = np.array(a_name)"
   ]
  },
  {
   "cell_type": "code",
   "execution_count": 13,
   "metadata": {},
   "outputs": [
    {
     "data": {
      "text/plain": [
       "8"
      ]
     },
     "execution_count": 13,
     "metadata": {},
     "output_type": "execute_result"
    }
   ],
   "source": [
    "len(W)"
   ]
  },
  {
   "cell_type": "code",
   "execution_count": 14,
   "metadata": {},
   "outputs": [],
   "source": [
    "losses_history = []\n",
    "for i in range(num_iters):\n",
    "    loss = 0 \n",
    "    grad = np.zeros_like(W)\n",
    "    dim  = X.shape[0]\n",
    "    num_train = X.shape[1]\n",
    "    scores = W.dot(X)\n",
    "    scores -= np.max(scores)\n",
    "    scores_exp = np.exp(scores)\n",
    "    scores_exp = scores_exp*const2\n",
    "    rang = range(num_train)\n",
    "    correct_scores_exp = scores_exp[Y, rang]\n",
    "    scores_exp_sum = np.sum(scores_exp, axis=0)\n",
    "    frac = correct_scores_exp / scores_exp_sum\n",
    "    loss = -np.sum(np.log(frac))\n",
    "    loss /= num_train\n",
    "    scores_exp_normalized = scores_exp / scores_exp_sum\n",
    "    rang = range(num_train)\n",
    "    scores_exp_normalized[Y, rang] -= 1\n",
    "    XT = X.T\n",
    "    grad = scores_exp_normalized.dot(X.T)\n",
    "    grad /= num_train\n",
    "    losses_history.append(loss)\n",
    "    prod = lr * grad\n",
    "    W -= prod\n",
    "    if(loss<1):\n",
    "        break;\n",
    "    "
   ]
  },
  {
   "cell_type": "code",
   "execution_count": 10,
   "metadata": {},
   "outputs": [],
   "source": [
    "res = res - mean\n",
    "coefficiets = np.matmul(res , eigenvectors)\n",
    "len1 = len(res)\n",
    "b = np.ones((len1,1))\n",
    "res = np.hstack((coefficiets,b))\n",
    "array1 = np.array(res).T\n",
    "shap = array1.shape[1]\n",
    "pred_ys = np.zeros(shap)\n",
    "scores = W.dot(array1)\n",
    "pred_ys = np.argmax(scores, axis=0)\n",
    "pred = pred_ys"
   ]
  },
  {
   "cell_type": "code",
   "execution_count": 14,
   "metadata": {},
   "outputs": [
    {
     "name": "stdout",
     "output_type": "stream",
     "text": [
      "[4 4 6 0 7 1 5 4 7 4 2 7 1 4 6 0 7 4 6 6 6 5 3 3 6 6 0 1 5 5 6 1 4 7 7 3 7\n",
      " 0 4 7 6 4 0 1 3 3 3 2 3 2 0 1 1 3 5 4 5 3 3 0 1 1 0 4 2 5 0 7 5 4 2 2 3 6\n",
      " 5 1 2 0 1 5 5 1 5 6 0 5 2 6 3 2 2 4 5 7 5 0 1 6 2 7 0 2 1 1 4 5 7 2 3 5 6\n",
      " 1 2 3 5 0 3 5 2 4]\n"
     ]
    }
   ],
   "source": [
    "print((pred))"
   ]
  },
  {
   "cell_type": "code",
   "execution_count": 12,
   "metadata": {},
   "outputs": [
    {
     "name": "stdout",
     "output_type": "stream",
     "text": [
      "73\n"
     ]
    }
   ],
   "source": [
    "acc = 0\n",
    "for i in range(len(pred)):\n",
    "     if (assign_int[pred[i]] == file_name[i][12]):\n",
    "            acc=acc+1\n",
    "print(acc)"
   ]
  },
  {
   "cell_type": "code",
   "execution_count": null,
   "metadata": {},
   "outputs": [],
   "source": []
  }
 ],
 "metadata": {
  "kernelspec": {
   "display_name": "Python 3",
   "language": "python",
   "name": "python3"
  },
  "language_info": {
   "codemirror_mode": {
    "name": "ipython",
    "version": 3
   },
   "file_extension": ".py",
   "mimetype": "text/x-python",
   "name": "python",
   "nbconvert_exporter": "python",
   "pygments_lexer": "ipython3",
   "version": "3.5.2"
  }
 },
 "nbformat": 4,
 "nbformat_minor": 2
}
